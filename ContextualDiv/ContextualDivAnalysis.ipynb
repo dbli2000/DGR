{
 "cells": [
  {
   "attachments": {},
   "cell_type": "markdown",
   "metadata": {},
   "source": [
    "# DGR analysis\n",
    "## Efficient generation of context-dependent diversity in living cells\n",
    "Jonathan L. Schmid-Burgk, David Li, Guilhem Faure, Suchita P. Nety, Jonathan Strecker, Amy X. Guo, Julia Reinhardt, Balwina Koopal, Han Altae-Tran, Feng Zhang\n",
    "\n",
    "# Table of contents\n",
    "1. [Import packages](#import)\n",
    "2. [Input data](#input)\n",
    "3. [Evaluate functions](#functions)\n",
    "4. [Overall diversification patterns of wild type system-10](#div)\n",
    "5. [Contextual base diversification in system-10 wild-type and mutant RTs](#context)\n",
    "6. [Amino acid distributions in diversified codons](#aa)\n",
    "\n",
    "Notes:\\\n",
    "If the output of a function involves nucleotides, the frame is specified as either 1 (TR RNA) or -1 (cDNA). See Fig 2h for a schematic.\\\n",
    "J900 files include VR reads.\\\n",
    "J902 files include cDNA reads.\\\n",
    "Input fasta files must consist of pre-trimmed and aligned NGS reads (see Methods).\n",
    "\n",
    "Suchita Nety\\\n",
    "suchita@mit.edu\\\n",
    "Last updated 9/26/2020"
   ]
  },
  {
   "cell_type": "markdown",
   "metadata": {},
   "source": [
    "## Import packages <a name=\"import\"></a>"
   ]
  },
  {
   "cell_type": "code",
   "execution_count": 1,
   "metadata": {},
   "outputs": [],
   "source": [
    "import os\n",
    "import re\n",
    "import numpy as np\n",
    "np.set_printoptions(suppress=True)\n",
    "import scipy as sp\n",
    "import pandas as pd\n",
    "import seaborn as sns\n",
    "import matplotlib\n",
    "import matplotlib.pyplot as plt\n",
    "from Bio.Seq import Seq\n",
    "from Bio import SeqIO\n",
    "from Bio import pairwise2\n",
    "from Bio import Align\n",
    "from Bio.SeqRecord import SeqRecord\n",
    "import logomaker # optional"
   ]
  },
  {
   "cell_type": "markdown",
   "metadata": {},
   "source": [
    "## Parameters & data <a name=\"input\"></a>\n",
    "Do not alter if using provided sample data"
   ]
  },
  {
   "cell_type": "code",
   "execution_count": 2,
   "metadata": {},
   "outputs": [],
   "source": [
    "# all functions output data in a specified order of bases to keep everything consistent\n",
    "order = ['A','C','G','T']\n",
    "order_rc = [str(Seq(letter).reverse_complement()) for letter in order]\n",
    "\n",
    "# 2-nucleotide motifs in order\n",
    "order_x2 = [i+j for i in order for j in order]"
   ]
  },
  {
   "cell_type": "code",
   "execution_count": 3,
   "metadata": {},
   "outputs": [],
   "source": [
    "## define template sequences\n",
    "\n",
    "# J900 wild type VR amplicon\n",
    "J900_vr = Seq(\"GCGCCTGCCGTTCCGTGGTGGCTACTGGAGCGACGCCTCGGATGCGGGGTTGTCGGCGTTGCGCTTGTACAACGCCCGCGGCGATCGCAGCAG\"\\\n",
    "              \"CTTCATCGGTTGCCGGCCTGCTTTT\")\n",
    "\n",
    "# J900 wild type TR div sequence as if it were in the VR amplicon\n",
    "J900_tr = Seq(\"GCGCCTGCCGATCCGTGGTGGCAACTGGAACAACGCCTCGGATGCGGGGTTGTCGGCGTTGAACTTGAACAACGCCCGCGGCAATCGCAACAG\"\\\n",
    "              \"CAACATCGGTTGCCGGCCTGCTTTT\")\n",
    "\n",
    "# full J902 cDNA amplicon (120nt)\n",
    "J902 = Seq(\"TGGCAACTGGAACAACGCCTCGGATGCGGGGTTGTCGTCGACGTTTTCTTGGGTCTACCGTTTAATGTCGAC\"\\\n",
    "           \"GGCGTTGAACTTGAACAACGCCCGCGGCAATCGCAACAGCAACATCGG\")"
   ]
  },
  {
   "cell_type": "code",
   "execution_count": 4,
   "metadata": {},
   "outputs": [],
   "source": [
    "## find relevant positions in the diversified region to use as \"template\" arguments in later functions\n",
    "\n",
    "## templated by the TR\n",
    "# A(AC)\n",
    "aac1_J900tr_idx = [m.start() for m in re.finditer('AAC',str(J900_tr))]\n",
    "aac_J900tr_idx = [aac1_J900tr_idx, [val + 1 for val in aac1_J900tr_idx], [val + 2 for val in aac1_J900tr_idx]]\n",
    "# A positions templated by the TR\n",
    "a_J900tr_idx = [m.start() for m in re.finditer('A',str(J900_tr))]\n",
    "# nonA positions templated by the TR\n",
    "nona_J900tr_idx = list(set(np.arange(len(J900_tr))) - set(a_J900tr_idx))\n",
    "\n",
    "## positions in the cDNA\n",
    "aac1_J902_idx = [m.start() for m in re.finditer('AAC',str(J902))]\n",
    "aac2_J902_idx = [val + 1 for val in aac1_J902_idx]\n",
    "aac_J902_idx = [aac1_J902_idx, [val + 1 for val in aac1_J902_idx], [val + 2 for val in aac1_J902_idx]]\n",
    "aa_J902_idx = [m.start() for m in re.finditer('AA',str(J902))]\n",
    "a_J902_idx = [m.start() for m in re.finditer('A',str(J902))]\n",
    "\n",
    "# exclude the first 4 and last 4 bases bc these are contained in hom\n",
    "nona_J902_idx = list(set(np.arange(4,len(J902)-4)) - set(a_J902_idx))"
   ]
  },
  {
   "cell_type": "markdown",
   "metadata": {},
   "source": [
    "## Execute functions<a name=\"functions\"></a>\n",
    "Do not alter"
   ]
  },
  {
   "cell_type": "code",
   "execution_count": 5,
   "metadata": {},
   "outputs": [],
   "source": [
    "# For all the reads in a sample, count number of mismatches to a specified sequence. \n",
    "# Returns a list of # of mismatches per read (reads = False)\n",
    "# or\n",
    "# returns list of read sequence with a specified number of mismatches to a template amplicon (reads = True)\n",
    "\n",
    "# filename = fasta without extension\n",
    "# input fasta file must have perfectly aligned reads\n",
    "# template = any amplicon defined above\n",
    "# n = at least n mismatches will be counted in the final list. Only relevant if reads = True.\n",
    "# reads = False to output a list of counts, True to output a list of read sequences\n",
    "\n",
    "def count_or_filter_mm(filename, template, n = 0, reads = False):\n",
    "    \n",
    "    output = []\n",
    "    \n",
    "    for seq_record in SeqIO.parse(filename+'.fasta', \"fasta\"):\n",
    "        \n",
    "        aligner = Align.PairwiseAligner()\n",
    "        \n",
    "        # number of mismatches\n",
    "        n_mm = int(aligner.score(template, template) - aligner.score(seq_record.seq.ungap(\"-\"), template))\n",
    "        \n",
    "        if reads == False:\n",
    "            output.append(n_mm) # output the number of mismatches\n",
    "        else:\n",
    "            if n_mm >= n:\n",
    "                output.append(seq_record) # output the sequence of the read\n",
    "    return output"
   ]
  },
  {
   "cell_type": "code",
   "execution_count": 6,
   "metadata": {},
   "outputs": [],
   "source": [
    "# Tally the frequency of each base OR total mismatches to a specified template at each specified position\n",
    "# Returns a 4x1 or 4xlen(indices) array where rows are each base in order; or 1x1 or 1xlen(indices) array\n",
    "# frame = 1\n",
    "\n",
    "# filename = without extension\n",
    "# template = any amplicon defined above\n",
    "# indices = list of index positions in the template of interest\n",
    "# average = default True to average the frequencies over all the indices\n",
    "# percent = default True; otherwise False for read counts \n",
    "\n",
    "def count_div(filename, template, indices, stacked = True, percent = True, average = False):\n",
    "    \n",
    "    if stacked == True:\n",
    "        counter = np.zeros((4, len(indices)))\n",
    "    else:\n",
    "        counter = np.zeros((1, len(indices)))\n",
    "        totcounter = np.zeros((1, len(indices)))\n",
    "    \n",
    "    for seq_record in SeqIO.parse(filename+'.fasta', \"fasta\"):\n",
    "        \n",
    "        # get the sequence\n",
    "        read = seq_record.seq.ungap(\"-\")\n",
    "        \n",
    "        # for position in read\n",
    "        for idx, posn in enumerate(indices): # idx is the index of the list indices, posn is the actual position\n",
    "            base = read[posn]\n",
    "            \n",
    "            # update counter, exclude N's\n",
    "            if base != 'N':\n",
    "                \n",
    "                # keep track of base frequencies for stacked output\n",
    "                if stacked == True:\n",
    "                    counter[order.index(base), indices.index(posn)] += 1\n",
    "                \n",
    "                else:\n",
    "                    totcounter[0, idx] += 1\n",
    "                    if base != template[posn]: # only keep track of mismatch frequencies for non-stacked output\n",
    "                        counter[0, idx] += 1\n",
    "    \n",
    "    if percent == True:\n",
    "        if stacked == True:\n",
    "            for i in range(np.shape(counter)[1]):\n",
    "                counter[:,i] = 100* counter[:,i] / sum(counter[:,i])\n",
    "        else:\n",
    "            counter = 100* counter / totcounter\n",
    "    \n",
    "    if average == True:\n",
    "        # average counter across all indices\n",
    "        counter_avg = np.zeros((np.shape(counter)[0], 1))\n",
    "        for i in range(np.shape(counter)[0]):\n",
    "            counter_avg[i,0] = np.mean(counter[i])\n",
    "        return counter_avg\n",
    "    else:\n",
    "        return counter"
   ]
  },
  {
   "cell_type": "code",
   "execution_count": 70,
   "metadata": {},
   "outputs": [],
   "source": [
    "# Tally the frequency of each possible 2-base motif at each specified position\n",
    "# Outputs 4x4 array with counts of each motif. Index base (frame = 1) at rows and index+1 base at columns.\n",
    "\n",
    "# filename = without extension\n",
    "# template = cdna or tr\n",
    "# indices = list of positions in the given template\n",
    "# mmfilter = 'bmm', '1mm', '2mm' (both, 1st or 2nd base don't match the template)\n",
    "\n",
    "def count_motif(filename, template, indices, mmfilter = 'all', norm = True):\n",
    "    \n",
    "    counter = np.zeros((4, 4))\n",
    "    \n",
    "    for seq_record in SeqIO.parse(filename+'.fasta', \"fasta\"):\n",
    "        \n",
    "        # get the sequence of the read\n",
    "        read = seq_record.seq.ungap(\"-\")\n",
    "        \n",
    "        # for each (first) position:\n",
    "        for idx in indices:\n",
    "            \n",
    "            # get the 1st base\n",
    "            base1 = read[idx]\n",
    "            # get the 2nd base\n",
    "            base2 = read[idx+1]\n",
    "            \n",
    "            # neither base can be N\n",
    "            if base1 != 'N' and base2 !='N':\n",
    "                \n",
    "                # for any non-N scenario\n",
    "                if mmfilter == 'all':\n",
    "                    counter[order.index(base1),order.index(base2)] += 1\n",
    "                    \n",
    "                # if either base mismatches the template\n",
    "                elif mmfilter == 'emm':\n",
    "                    if base1 != template[idx] or base2 != template[idx+1]:\n",
    "                        counter[order.index(base1),order.index(base2)] += 1\n",
    "                \n",
    "                # if both bases don't match the template\n",
    "                elif mmfilter == 'bmm':\n",
    "                    if base1 != template[idx] and base2 != template[idx+1]:\n",
    "                        counter[order.index(base1),order.index(base2)] += 1\n",
    "                \n",
    "                # if base1 doesn't match the template        \n",
    "                elif mmfilter == '1mm':\n",
    "                    if base1 != template[idx]:\n",
    "                        counter[order.index(base1),order.index(base2)] += 1\n",
    "                \n",
    "                # if base2 doesn't match the template        \n",
    "                elif mmfilter == '2mm':\n",
    "                    if base2 != template[idx]:\n",
    "                        counter[order.index(base1),order.index(base2)] += 1\n",
    "       \n",
    "    if norm == True:\n",
    "        # normalize base counts by column\n",
    "        for i in range(np.shape(counter)[1]):\n",
    "            if sum(counter[:,i]) != 0: # avoid divide by 0 errors\n",
    "                counter[:,i] = counter[:,i] / sum(counter[:,i])\n",
    "    \n",
    "    return counter"
   ]
  },
  {
   "cell_type": "code",
   "execution_count": 91,
   "metadata": {},
   "outputs": [],
   "source": [
    "# Tally the frequency of each base based on the previous base at each specified position (contextual diversity)\n",
    "# Outputs tidy dataframe. \n",
    "# All base labels are frame = -1\n",
    "\n",
    "# filename = without extension\n",
    "# template = cdna or tr\n",
    "# indices = list of positions in the given template (for this analysis only template A indices make sense)\n",
    "\n",
    "def count_context(filename, template, indices):\n",
    "\n",
    "    output = pd.DataFrame(columns = ['reads', '%', \n",
    "                                     'base', 'read preceding base', 'templated preceding base', 'match','idx'])\n",
    "    \n",
    "    # for each position in the template (each AA unit):\n",
    "    for idx in indices:\n",
    "        \n",
    "        # count all 2-AA motifs at this position\n",
    "        counter_ct = count_motif(filename, template, [idx], mmfilter = 'all', norm = False)\n",
    "        counter_pct = count_motif(filename, template, [idx], mmfilter = 'all', norm = True)\n",
    "        \n",
    "        \n",
    "        # store in df by rolling through each of the 16 possible motifs\n",
    "        for i, motif in enumerate(order_x2):\n",
    "            to_append = pd.DataFrame([[int(list(counter_ct.flatten())[i]), \n",
    "                                       100*list(counter_pct.flatten())[i], \n",
    "                                       str(Seq(motif[0]).reverse_complement()), \n",
    "                                       str(Seq(motif[1]).reverse_complement()), \n",
    "                                       str(Seq(template[idx+1]).reverse_complement()),\n",
    "                                       template[idx+1] == motif[1], idx]], \n",
    "                                     columns = output.columns)\n",
    "\n",
    "            output = output.append(to_append, ignore_index=True)\n",
    "    \n",
    "    return output"
   ]
  },
  {
   "cell_type": "code",
   "execution_count": 9,
   "metadata": {},
   "outputs": [],
   "source": [
    "# Count all residues specified by an index list (of all 3 codon positions)\n",
    "\n",
    "# filename = without extension\n",
    "# template = cdna or tr\n",
    "# indices = list of positions of the first base of each codon\n",
    "# observed = True if we're calculating the amino acid distributions based on the provided data\n",
    "# observed = False if we're calculating the expected distribution.\n",
    "\n",
    "# returns a dict with amino acid residue as keys, values as percent, filename, observed/expected\n",
    "\n",
    "def count_residues(filename, indices, observed = True):\n",
    "    \n",
    "    # initialize counter for amino acids\n",
    "    counter = {x:0 for x in ['A', 'C', 'D', 'E', 'F', 'G', 'H', 'I', 'K', 'L', 'M', 'N', 'P', 'Q', \\\n",
    "                              'R', 'S', 'T', 'V', 'W', 'Y', 'X', '*']}\n",
    "    \n",
    "    if observed == True:\n",
    "\n",
    "        for seq_record in SeqIO.parse(filename+'.fasta', \"fasta\"):\n",
    "\n",
    "            # get the sequence of the read\n",
    "            read = seq_record.seq.ungap(\"-\")\n",
    "\n",
    "            # for codon where first posn is specified in indices\n",
    "            for i in range(len(indices[0])):\n",
    "                residue = read[indices[0][i]:indices[0][i]+3].translate()[0]\n",
    "                counter[residue] += 1\n",
    "\n",
    "        # sort, convert to percentage, add a label for filename and obs/exp\n",
    "        s = sum(counter.values())\n",
    "        counter = {k: [v*100/s, \n",
    "                       filename.upper(), \n",
    "                       'Observed'] for k, v in sorted(counter.items(), key=lambda item: item[1], reverse = True)}\n",
    "\n",
    "    else: \n",
    "        # base frequencies at all positions (not percentages)\n",
    "        basefreq = [count_div(filename, Seq(\"\"), indices[i], stacked = True, percent = True, average = False)\n",
    "                    /100 for i in range(len(indices))]\n",
    "\n",
    "        # init codon dict\n",
    "        codond = dict(zip([b1 + b2 + b3 for b1 in order for b2 in order for b3 in order],\n",
    "                          [0 for c in range(64)]))\n",
    "\n",
    "        # collect frequencies of each codon\n",
    "        for k,v in codond.items():\n",
    "            \n",
    "            bases = [order.index(k[0]), order.index(k[1]),order.index(k[2])]\n",
    "            \n",
    "            # positionwise: codond[k] = (basefreq[0][bases[0]]*basefreq[1][bases[1]]*basefreq[2][bases[2]])[0]\n",
    "            # averaged over A's in AAC codons\n",
    "            basefreq_first2 = (basefreq[0] + basefreq[1])/2\n",
    "            codond[k] = (basefreq_first2[bases[0]]*basefreq_first2[bases[1]]*basefreq[2][bases[2]])[0]\n",
    "                \n",
    "            aa_key = Seq(k).translate()[0]\n",
    "            counter[aa_key] += codond[k]\n",
    "\n",
    "        counter = {k: [100*v, \n",
    "                       filename.upper(), \n",
    "                       'Expected'] for k, v in sorted(counter.items(), key=lambda item: item[1], reverse = True)}\n",
    "    return counter"
   ]
  },
  {
   "cell_type": "markdown",
   "metadata": {},
   "source": [
    "## Overall diversification patterns of wild type system-10 <a name=\"div\"></a>\n",
    "Frame = 1"
   ]
  },
  {
   "cell_type": "markdown",
   "metadata": {},
   "source": [
    "### Frequency of mismatches to template VR"
   ]
  },
  {
   "cell_type": "code",
   "execution_count": 40,
   "metadata": {},
   "outputs": [
    {
     "data": {
      "image/png": "[encoded data removed]",
      "text/plain": [
       "<Figure size 432x288 with 1 Axes>"
      ]
     },
     "metadata": {
      "needs_background": "light"
     },
     "output_type": "display_data"
    }
   ],
   "source": [
    "sample = 'sample_data/wt_J900'\n",
    "data = count_or_filter_mm(sample, J900_vr, n = 0, reads = False)\n",
    "\n",
    "sns.distplot(data, bins = np.arange(0, 20), norm_hist = True, hist = True, kde = False, \n",
    "             label = 'J900')\n",
    "sns.distplot(list(filter(lambda a: a >= 3, data)), bins = np.arange(0, 20), norm_hist = True, \n",
    "             hist = True, kde = False, label = 'J900: 3 or more mismatches (homed)')\n",
    "\n",
    "plt.xticks(np.arange(0.5, 20.5), np.arange(0, 20))\n",
    "plt.legend();\n",
    "plt.xlabel('# of mismatches');\n",
    "plt.ylabel('Frequency');"
   ]
  },
  {
   "cell_type": "code",
   "execution_count": 42,
   "metadata": {},
   "outputs": [
    {
     "name": "stdout",
     "output_type": "stream",
     "text": [
      "Retrohoming efficiency (%) = 8.89\n"
     ]
    }
   ],
   "source": [
    "# Retrohoming efficiency (defined by % of reads with at least 3 mismatches to VR template)\n",
    "sample = 'sample_data/wt_J900'\n",
    "data = count_or_filter_mm(sample, J900_vr, n = 0, reads = False)\n",
    "print('Retrohoming efficiency (%) =', round(100*len(list(filter(lambda a: a >= 3, data)))/len(data),2))"
   ]
  },
  {
   "cell_type": "markdown",
   "metadata": {},
   "source": [
    "### Diversification at each position in the VR"
   ]
  },
  {
   "cell_type": "code",
   "execution_count": 12,
   "metadata": {},
   "outputs": [
    {
     "data": {
      "image/png": "[encoded data removed]",
      "text/plain": [
       "<Figure size 1080x288 with 1 Axes>"
      ]
     },
     "metadata": {
      "needs_background": "light"
     },
     "output_type": "display_data"
    }
   ],
   "source": [
    "# Total diversification at all TR/VR positions in all reads\n",
    "sample = 'sample_data/wt_J900'\n",
    "template = J900_vr # want mismatches to the TR\n",
    "indices = np.arange(10,9+88+1,1) # same positions shown in Figure 2f (complete 88-nt VR)\n",
    "\n",
    "data = count_div(sample, template, indices, stacked = False, percent = True, average = False)\n",
    "\n",
    "plt.figure(figsize=(15,4))\n",
    "plt.bar(x = np.arange(len(list(data[0]))), height = list(data[0]))\n",
    "plt.xticks(np.arange(len(list(data[0]))), [str(J900_vr[i]) for i in indices]);\n",
    "plt.xlabel('Reference VR base');\n",
    "plt.ylabel('% diversification');"
   ]
  },
  {
   "cell_type": "markdown",
   "metadata": {},
   "source": [
    "### Diversification at each position in the cDNA"
   ]
  },
  {
   "cell_type": "code",
   "execution_count": 13,
   "metadata": {},
   "outputs": [
    {
     "data": {
      "image/png": "[encoded data removed]",
      "text/plain": [
       "<Figure size 1080x288 with 1 Axes>"
      ]
     },
     "metadata": {
      "needs_background": "light"
     },
     "output_type": "display_data"
    }
   ],
   "source": [
    "# Total diversification at all cDNA positions\n",
    "sample = 'sample_data/wt_J902'\n",
    "template = J902\n",
    "indices = list(np.arange(4, 116)) # same indices shown in Figure 2g (88-nt VR + td intron remnant)\n",
    "\n",
    "data = count_div(sample, template, indices, stacked = False, percent = True, average = False)\n",
    "\n",
    "plt.figure(figsize=(15,4))\n",
    "plt.bar(x = np.arange(len(list(data[0]))), height = list(data[0]))\n",
    "plt.xticks(np.arange(len(list(data[0]))), [str(J900_vr[i]) for i in indices]);\n",
    "plt.xlabel('Reference cDNA base');\n",
    "plt.ylabel('% diversification');"
   ]
  },
  {
   "cell_type": "code",
   "execution_count": 17,
   "metadata": {},
   "outputs": [
    {
     "data": {
      "image/png": "[encoded data removed]",
      "text/plain": [
       "<Figure size 1080x46.8 with 1 Axes>"
      ]
     },
     "metadata": {},
     "output_type": "display_data"
    }
   ],
   "source": [
    "# generate cDNA logo (see Fig 2h)\n",
    "wt_cnda_seqs = []\n",
    "for record in SeqIO.parse('sample_data/wt_J902.fasta','fasta'):\n",
    "    if record.seq.find('N') < 0:\n",
    "        # append the 5' part of the cDNA (corresponds to 3' end of RNA amplicon)\n",
    "        wt_cnda_seqs.append(str(record.seq.reverse_complement())[-26:-4])\n",
    "        \n",
    "fig, ax = plt.subplots(1,1,figsize=[15,0.65], frameon = False)\n",
    "wt_cdna_logo = logomaker.Logo(logomaker.alignment_to_matrix(wt_cnda_seqs, to_type = 'probability'),\n",
    "                              ax = ax, show_spines = False,\n",
    "                              stack_order = 'small_on_top', vpad = 0.1,\n",
    "                              width = 0.8, font_name = 'Helvetica', color_scheme = 'classic')\n",
    "ax.set_xticks([])\n",
    "ax.set_yticks([]); "
   ]
  },
  {
   "cell_type": "markdown",
   "metadata": {},
   "source": [
    "## Contextual diversification <a name=\"context\"></a>\n",
    "Frame = -1"
   ]
  },
  {
   "cell_type": "code",
   "execution_count": 102,
   "metadata": {},
   "outputs": [
    {
     "data": {
      "image/png": "[encoded data removed]",
      "text/plain": [
       "<Figure size 432x288 with 1 Axes>"
      ]
     },
     "metadata": {
      "needs_background": "light"
     },
     "output_type": "display_data"
    }
   ],
   "source": [
    "# contextual diversification at AAC codons\n",
    "sample = 'sample_data/wt_J902'\n",
    "template = J902\n",
    "indices = aac1_J902_idx\n",
    "\n",
    "data = count_context(sample, template, indices)\n",
    "data = data.convert_dtypes(infer_objects=True)\n",
    "data.groupby(['read preceding base', 'base'])['%'].describe()['mean'].unstack().plot(kind = 'bar', stacked = True)\n",
    "plt.legend(bbox_to_anchor=(1, 1));\n",
    "plt.ylabel('base %');"
   ]
  },
  {
   "cell_type": "code",
   "execution_count": 37,
   "metadata": {},
   "outputs": [
    {
     "data": {
      "image/png": "[encoded data removed]",
      "text/plain": [
       "<Figure size 432x288 with 1 Axes>"
      ]
     },
     "metadata": {
      "needs_background": "light"
     },
     "output_type": "display_data"
    },
    {
     "data": {
      "image/png": "[encoded data removed]",
      "text/plain": [
       "<Figure size 432x288 with 1 Axes>"
      ]
     },
     "metadata": {
      "needs_background": "light"
     },
     "output_type": "display_data"
    },
    {
     "data": {
      "image/png": "[encoded data removed]",
      "text/plain": [
       "<Figure size 432x288 with 1 Axes>"
      ]
     },
     "metadata": {
      "needs_background": "light"
     },
     "output_type": "display_data"
    },
    {
     "data": {
      "image/png": "[encoded data removed]",
      "text/plain": [
       "<Figure size 432x288 with 1 Axes>"
      ]
     },
     "metadata": {
      "needs_background": "light"
     },
     "output_type": "display_data"
    },
    {
     "data": {
      "image/png": "[encoded data removed]",
      "text/plain": [
       "<Figure size 432x288 with 1 Axes>"
      ]
     },
     "metadata": {
      "needs_background": "light"
     },
     "output_type": "display_data"
    },
    {
     "data": {
      "image/png": "[encoded data removed]",
      "text/plain": [
       "<Figure size 432x288 with 1 Axes>"
      ]
     },
     "metadata": {
      "needs_background": "light"
     },
     "output_type": "display_data"
    }
   ],
   "source": [
    "# replicate Fig4g\n",
    "# contextual diversification at all A positions preceded by a matched base\n",
    "# this excludes some reads with templated AAs where the preceding base is diversified\n",
    "\n",
    "samples = ['sample_data/wt_J902', \n",
    "           'sample_data/K71A_J902', \n",
    "           'sample_data/I184Q_J902',\n",
    "           'sample_data/I184M_J902', \n",
    "           'sample_data/I184S_J902', \n",
    "           'sample_data/R73Y_J902']\n",
    "template = J902\n",
    "indices = a_J902_idx\n",
    "\n",
    "for sample in samples:\n",
    "    data = count_context(sample, template, indices)\n",
    "    data_match = data[data['match'] == True]\n",
    "    data_grouped = data_match.groupby(['read preceding base', 'base'])['%'].describe()['mean'].unstack()\n",
    "    ax = data_grouped.plot(kind='bar', stacked=True)\n",
    "    ax.legend(bbox_to_anchor=(1, 1));\n",
    "    ax.set_ylabel('base %');"
   ]
  },
  {
   "cell_type": "markdown",
   "metadata": {},
   "source": [
    "## Amino acid bias due to contextual diversification <a name=\"aa\"></a>"
   ]
  },
  {
   "cell_type": "code",
   "execution_count": 21,
   "metadata": {},
   "outputs": [
    {
     "data": {
      "text/plain": [
       "<seaborn.axisgrid.FacetGrid at 0x7fec93c84a30>"
      ]
     },
     "execution_count": 21,
     "metadata": {},
     "output_type": "execute_result"
    },
    {
     "data": {
      "image/png": "[encoded data removed]",
      "text/plain": [
       "<Figure size 443.875x360 with 1 Axes>"
      ]
     },
     "metadata": {
      "needs_background": "light"
     },
     "output_type": "display_data"
    }
   ],
   "source": [
    "# observed residue distribution\n",
    "df1 = pd.DataFrame.from_dict(count_residues('sample_data/wt_J902', aac_J902_idx, observed = True),\n",
    "                             orient = 'index')\n",
    "# expected residue distribution\n",
    "df2 = pd.DataFrame.from_dict(count_residues('sample_data/wt_J902', aac_J902_idx, observed = False), \n",
    "                       orient = 'index')\n",
    "ax = sns.catplot(x = 'index', y = 0, hue = 2, data = pd.concat([df1, df2], axis=0).reset_index(), kind = 'bar')\n",
    "ax.set(xlabel='Amino acid', ylabel='Abundance (%)')"
   ]
  }
 ],
 "metadata": {
  "kernelspec": {
   "display_name": "Python 3",
   "language": "python",
   "name": "python3"
  },
  "language_info": {
   "codemirror_mode": {
    "name": "ipython",
    "version": 3
   },
   "file_extension": ".py",
   "mimetype": "text/x-python",
   "name": "python",
   "nbconvert_exporter": "python",
   "pygments_lexer": "ipython3",
   "version": "3.8.3"
  }
 },
 "nbformat": 4,
 "nbformat_minor": 4
}
